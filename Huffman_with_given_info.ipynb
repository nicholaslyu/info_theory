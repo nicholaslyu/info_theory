{
 "cells": [
  {
   "cell_type": "code",
   "execution_count": 35,
   "id": "78eabd4f",
   "metadata": {},
   "outputs": [],
   "source": [
    "import heapq\n",
    "\n",
    "class huffman():\n",
    "    def __init__(self,probs):\n",
    "        self.probs = probs\n",
    "        pair =  self.encoding()\n",
    "        self.codebook = pair[0]\n",
    "        self.l = pair[1]\n",
    "        \n",
    "    def encoding(self):\n",
    "        codebook = {}\n",
    "        heap = self.probs\n",
    "        heapq.heapify(heap)\n",
    "        l = 0\n",
    "        # concat nodes with the lowerst two robabilities\n",
    "        while len(heap) > 1:\n",
    "            p1, node1 = heapq.heappop(heap)\n",
    "            p2, node2 = heapq.heappop(heap)\n",
    "            for c in node1:\n",
    "                codebook[c] = \"0\" + codebook.get(c, \"\")\n",
    "            for c in node2:\n",
    "                codebook[c] = \"1\" + codebook.get(c, \"\")\n",
    "            l +=(p1+p2)\n",
    "            heapq.heappush(heap, (p1 + p2, node1 + node2))\n",
    "        return codebook,l\n",
    "    def get_codebook(self):\n",
    "        return self.codebook\n",
    "    \n",
    "    def get_avgLength(self):\n",
    "        return self.l\n"
   ]
  },
  {
   "cell_type": "code",
   "execution_count": 26,
   "id": "22af1b7b",
   "metadata": {},
   "outputs": [
    {
     "data": {
      "text/plain": [
       "({'A': 0.1111111111111111,\n",
       "  'E': 0.1111111111111111,\n",
       "  'I': 0.1111111111111111,\n",
       "  'B': 0.05555555555555555,\n",
       "  'C': 0.05555555555555555,\n",
       "  'D': 0.05555555555555555,\n",
       "  'α': 0.08333333333333333,\n",
       "  'β': 0.08333333333333333,\n",
       "  'γ': 0.08333333333333333,\n",
       "  'δ': 0.08333333333333333,\n",
       "  'ǫ': 0.08333333333333333,\n",
       "  'φ': 0.08333333333333333},\n",
       " ['A', 'E', 'I', 'B', 'C', 'D', 'α', 'β', 'γ', 'δ', 'ǫ', 'φ'])"
      ]
     },
     "execution_count": 26,
     "metadata": {},
     "output_type": "execute_result"
    }
   ],
   "source": [
    "# part a initialization\n",
    "input_ = [(1/9, 'A'), (1/9, 'E'), (1/9, 'I'), (1/18, 'B'),(1/18,'C'),(1/18,\"D\")\n",
    "             ,(1/12,\"α\"),(1/12,\"β\"),(1/12,\"γ\")\n",
    "             ,(1/12,\"δ\"),(1/12,\"ǫ\"),(1/12,\"φ\")]\n",
    "source = [k for (x,k) in input_]\n",
    "prob_diction = dict([(k,x) for (x,k) in input_])\n",
    "prob_diction,source"
   ]
  },
  {
   "cell_type": "code",
   "execution_count": 78,
   "id": "e4376cd6",
   "metadata": {},
   "outputs": [
    {
     "data": {
      "text/plain": [
       "[(0.1111111111111111, 'A'),\n",
       " (0.1111111111111111, 'E'),\n",
       " (0.1111111111111111, 'I'),\n",
       " (0.05555555555555555, 'B'),\n",
       " (0.05555555555555555, 'C'),\n",
       " (0.05555555555555555, 'D'),\n",
       " (0.08333333333333333, 'α'),\n",
       " (0.08333333333333333, 'β'),\n",
       " (0.08333333333333333, 'γ'),\n",
       " (0.08333333333333333, 'δ'),\n",
       " (0.08333333333333333, 'ǫ'),\n",
       " (0.08333333333333333, 'φ')]"
      ]
     },
     "execution_count": 78,
     "metadata": {},
     "output_type": "execute_result"
    }
   ],
   "source": [
    "# part a n = 1, initilization\n",
    "n1 = []\n",
    "for i in source:\n",
    "    p = prob_diction[i]\n",
    "    n1.append((p,i))\n",
    "n1"
   ]
  },
  {
   "cell_type": "code",
   "execution_count": 79,
   "id": "236103fb",
   "metadata": {},
   "outputs": [],
   "source": [
    "# temporary save n1\n",
    "props_entropy = n1"
   ]
  },
  {
   "cell_type": "code",
   "execution_count": 76,
   "id": "91fb1846",
   "metadata": {},
   "outputs": [
    {
     "data": {
      "text/plain": [
       "3.583333333333333"
      ]
     },
     "execution_count": 76,
     "metadata": {},
     "output_type": "execute_result"
    }
   ],
   "source": [
    "# part a, n =1, compute avg_length \n",
    "n1_huffman = huffman(n1)\n",
    "n1_huffman.get_avgLength()"
   ]
  },
  {
   "cell_type": "code",
   "execution_count": 34,
   "id": "b30077ac",
   "metadata": {},
   "outputs": [
    {
     "data": {
      "text/plain": [
       "{'B': '0100',\n",
       " 'C': '0101',\n",
       " 'D': '1010',\n",
       " 'ǫ': '1011',\n",
       " 'α': '1100',\n",
       " 'β': '1101',\n",
       " 'γ': '1110',\n",
       " 'δ': '1111',\n",
       " 'φ': '000',\n",
       " 'A': '001',\n",
       " 'E': '011',\n",
       " 'I': '100'}"
      ]
     },
     "execution_count": 34,
     "metadata": {},
     "output_type": "execute_result"
    }
   ],
   "source": [
    "# part a, n =1, codebook\n",
    "n1_huffman.get_codebook()"
   ]
  },
  {
   "cell_type": "code",
   "execution_count": 55,
   "id": "083f9537",
   "metadata": {},
   "outputs": [
    {
     "data": {
      "text/plain": [
       "[(0.012345679012345678, 'AA'),\n",
       " (0.012345679012345678, 'AE'),\n",
       " (0.012345679012345678, 'AI'),\n",
       " (0.006172839506172839, 'AB'),\n",
       " (0.006172839506172839, 'AC')]"
      ]
     },
     "execution_count": 55,
     "metadata": {},
     "output_type": "execute_result"
    }
   ],
   "source": [
    "# part a n = 2, initilization\n",
    "n2 = []\n",
    "for i in source:\n",
    "    for j in source:\n",
    "        p = prob_diction[i]*prob_diction[j]\n",
    "        n2.append((p,i+j))\n",
    "n2[:5]"
   ]
  },
  {
   "cell_type": "code",
   "execution_count": 70,
   "id": "290d6eaf",
   "metadata": {},
   "outputs": [
    {
     "data": {
      "text/plain": [
       "3.557098765432098"
      ]
     },
     "execution_count": 70,
     "metadata": {},
     "output_type": "execute_result"
    }
   ],
   "source": [
    "\n",
    "# part a n = 2, compute average length\n",
    "n2_huffman = huffman(n2)\n",
    "n2_huffman.get_avgLength()/2"
   ]
  },
  {
   "cell_type": "code",
   "execution_count": 69,
   "id": "a28cd41c",
   "metadata": {},
   "outputs": [
    {
     "data": {
      "text/plain": [
       "[(0.0013717421124828531, 'AAA'),\n",
       " (0.0013717421124828531, 'AAE'),\n",
       " (0.0013717421124828531, 'AAI'),\n",
       " (0.0006858710562414266, 'AAB'),\n",
       " (0.0006858710562414266, 'AAC')]"
      ]
     },
     "execution_count": 69,
     "metadata": {},
     "output_type": "execute_result"
    }
   ],
   "source": [
    "\n",
    "# part a n = 3, initialization \n",
    "n3 = []\n",
    "for i in source:\n",
    "    for j in source:\n",
    "        for k in source:\n",
    "            p = prob_diction[i]*prob_diction[j]*prob_diction[k]\n",
    "            n3.append((p,i+j+k))\n",
    "n3[:5]"
   ]
  },
  {
   "cell_type": "code",
   "execution_count": 71,
   "id": "03753e8f",
   "metadata": {},
   "outputs": [
    {
     "data": {
      "text/plain": [
       "3.5548553955189757"
      ]
     },
     "execution_count": 71,
     "metadata": {},
     "output_type": "execute_result"
    }
   ],
   "source": [
    "# part a n = 3\n",
    "n3_huffman = huffman(n3)\n",
    "n3_huffman.get_avgLength()/3"
   ]
  },
  {
   "cell_type": "code",
   "execution_count": 88,
   "id": "357c9dc4",
   "metadata": {},
   "outputs": [
    {
     "data": {
      "text/plain": [
       "3.5441104177484006"
      ]
     },
     "execution_count": 88,
     "metadata": {},
     "output_type": "execute_result"
    }
   ],
   "source": [
    "import math\n",
    "entropy = 0\n",
    "for i in props_entropy:\n",
    "    d = i[0]*math.log(1/i[0],2)\n",
    "    entropy+=d\n",
    "entropy"
   ]
  },
  {
   "cell_type": "markdown",
   "id": "a47d08ae",
   "metadata": {},
   "source": [
    "\n",
    "### Conclusion:\n",
    "<font size=\"4\">When the block size increases, the average length per source symbol will approach to the entropy,which is 3.5441104177484006 </font>"
   ]
  },
  {
   "cell_type": "markdown",
   "id": "72f49abf",
   "metadata": {},
   "source": [
    "#### part b, n = 1, we have two sets,which are S1 = e, S2 = g\n",
    "#### Given y, we know which set the source is from \n",
    "#### We need to compute two huffman encoding for S1 and S2 respectively\n",
    "\n"
   ]
  },
  {
   "cell_type": "code",
   "execution_count": 94,
   "id": "70f826b8",
   "metadata": {},
   "outputs": [],
   "source": [
    "# probs for S1\n",
    "probs_s1 = [(2/9,\"A\"),(2/9,\"E\"),(2/9,\"I\"),(1/9,\"B\"),(1/9,\"C\"),(1/9,\"D\")]\n",
    "\n",
    "# save the probs for s1 temporary\n",
    "entropy_probs_s1 = probs_s1.copy()\n",
    "\n",
    "s1_huffman = huffman(probs_s1)"
   ]
  },
  {
   "cell_type": "code",
   "execution_count": 39,
   "id": "8f51ecd8",
   "metadata": {},
   "outputs": [
    {
     "data": {
      "text/plain": [
       "{'B': '000', 'C': '001', 'D': '110', 'A': '111', 'E': '01', 'I': '10'}"
      ]
     },
     "execution_count": 39,
     "metadata": {},
     "output_type": "execute_result"
    }
   ],
   "source": [
    "# S1 codebook\n",
    "s1_huffman.get_codebook()"
   ]
  },
  {
   "cell_type": "code",
   "execution_count": 40,
   "id": "492526d4",
   "metadata": {},
   "outputs": [
    {
     "data": {
      "text/plain": [
       "2.5555555555555554"
      ]
     },
     "execution_count": 40,
     "metadata": {},
     "output_type": "execute_result"
    }
   ],
   "source": [
    "# S1 avg length per source symbol\n",
    "s1_huffman.get_avgLength()"
   ]
  },
  {
   "cell_type": "code",
   "execution_count": 96,
   "id": "c420dfd4",
   "metadata": {},
   "outputs": [],
   "source": [
    "# probs for S2\n",
    "probs_s2 = [(1/6,\"α\"),(1/6,\"β\"),(1/6,\"γ\")\n",
    "             ,(1/6,\"δ\"),(1/6,\"ǫ\"),(1/6,\"φ\")]\n",
    "\n",
    "# save the probs for s2 temporary\n",
    "entropy_probs_s2 = probs_s2.copy()\n",
    "\n",
    "s2_huffman = huffman(probs_s2)"
   ]
  },
  {
   "cell_type": "code",
   "execution_count": 97,
   "id": "7d066c0b",
   "metadata": {},
   "outputs": [
    {
     "data": {
      "text/plain": [
       "{'ǫ': '100', 'α': '101', 'β': '110', 'γ': '111', 'δ': '00', 'φ': '01'}"
      ]
     },
     "execution_count": 97,
     "metadata": {},
     "output_type": "execute_result"
    }
   ],
   "source": [
    "s2_huffman.get_codebook()"
   ]
  },
  {
   "cell_type": "code",
   "execution_count": 98,
   "id": "667a1978",
   "metadata": {},
   "outputs": [
    {
     "data": {
      "text/plain": [
       "2.6666666666666665"
      ]
     },
     "execution_count": 98,
     "metadata": {},
     "output_type": "execute_result"
    }
   ],
   "source": [
    "# S2 avg length per source symbol\n",
    "s2_huffman.get_avgLength()"
   ]
  },
  {
   "cell_type": "code",
   "execution_count": 99,
   "id": "97d2525c",
   "metadata": {},
   "outputs": [
    {
     "data": {
      "text/plain": [
       "2.6111111111111107"
      ]
     },
     "execution_count": 99,
     "metadata": {},
     "output_type": "execute_result"
    }
   ],
   "source": [
    "# weighted avg length per source symbol, n=1\n",
    "(2.5555555555555554+2.6666666666666665)/2"
   ]
  },
  {
   "cell_type": "markdown",
   "id": "04652ba5",
   "metadata": {},
   "source": [
    "## Codebook for n=1\n",
    "##### 'φ','E': 01\n",
    "#### 'δ', 'I': 00\n",
    "#### 'γ', 'A': 111\n",
    "#### 'β', 'D': 110\n",
    "#### 'α': 101\n",
    "#### 'ǫ': 100\n",
    "#### 'B': 000\n",
    "#### 'C': 001\n"
   ]
  },
  {
   "cell_type": "markdown",
   "id": "ef7b7fcf",
   "metadata": {},
   "source": [
    "### Part b, n =2, we have eg, ee, gg, ge four cases\n"
   ]
  },
  {
   "cell_type": "code",
   "execution_count": 45,
   "id": "fdaf2bba",
   "metadata": {},
   "outputs": [
    {
     "data": {
      "text/plain": [
       "(0.25, 0.25, 0.25, 0.25)"
      ]
     },
     "execution_count": 45,
     "metadata": {},
     "output_type": "execute_result"
    }
   ],
   "source": [
    "prob_ee = (3/9+3/18)*(3/9+3/18)\n",
    "prob_eg = (3/9+3/18)*(6/12)\n",
    "prob_ge = (3/9+3/18)*(6/12)\n",
    "prob_gg = (6/12)**2\n",
    "# their prob are all 1/4\n",
    "prob_ee,prob_eg,prob_ge,prob_gg"
   ]
  },
  {
   "cell_type": "code",
   "execution_count": 46,
   "id": "b47b0282",
   "metadata": {},
   "outputs": [],
   "source": [
    "probs_diction_e = {\"A\":2/9,\"E\":2/9,\"I\":2/9,\"B\":1/9,\"C\":1/9,\"D\":1/9}\n",
    "probs_diction_g = {\"α\":1/6,\"β\":1/6,\"γ\":1/6,\"δ\":1/6,\"ǫ\":1/6,\"φ\":1/6}\n",
    "e = [\"A\",\"E\",\"I\",\"B\",\"C\",\"D\"]\n",
    "g = [\"α\",\"β\",\"γ\",\"δ\",\"ǫ\",\"φ\"]"
   ]
  },
  {
   "cell_type": "code",
   "execution_count": 50,
   "id": "eaa331f1",
   "metadata": {},
   "outputs": [
    {
     "data": {
      "text/plain": [
       "[(0.04938271604938271, 'AA'),\n",
       " (0.04938271604938271, 'AE'),\n",
       " (0.04938271604938271, 'AI'),\n",
       " (0.024691358024691357, 'AB'),\n",
       " (0.024691358024691357, 'AC')]"
      ]
     },
     "execution_count": 50,
     "metadata": {},
     "output_type": "execute_result"
    }
   ],
   "source": [
    "# initialization of probalities of ee\n",
    "probs_ee = []\n",
    "for i in e:\n",
    "    for j in e:\n",
    "        p = probs_diction_e[i]*probs_diction_e[j]\n",
    "        probs_ee.append((p,i+j))\n",
    "probs_ee[:5]"
   ]
  },
  {
   "cell_type": "code",
   "execution_count": 52,
   "id": "0cab56e7",
   "metadata": {},
   "outputs": [
    {
     "data": {
      "text/plain": [
       "[(0.037037037037037035, 'Aα'),\n",
       " (0.037037037037037035, 'Aβ'),\n",
       " (0.037037037037037035, 'Aγ'),\n",
       " (0.037037037037037035, 'Aδ'),\n",
       " (0.037037037037037035, 'Aǫ')]"
      ]
     },
     "execution_count": 52,
     "metadata": {},
     "output_type": "execute_result"
    }
   ],
   "source": [
    "#initialization of probalities of eg\n",
    "probs_eg=[]\n",
    "for i in e:\n",
    "    for j in g:\n",
    "        p = probs_diction_e[i]*probs_diction_g[j]\n",
    "        probs_eg.append((p,i+j))\n",
    "probs_eg[:5]"
   ]
  },
  {
   "cell_type": "code",
   "execution_count": 54,
   "id": "4689b28c",
   "metadata": {},
   "outputs": [
    {
     "data": {
      "text/plain": [
       "[(0.037037037037037035, 'αA'),\n",
       " (0.037037037037037035, 'αE'),\n",
       " (0.037037037037037035, 'αI'),\n",
       " (0.018518518518518517, 'αB'),\n",
       " (0.018518518518518517, 'αC')]"
      ]
     },
     "execution_count": 54,
     "metadata": {},
     "output_type": "execute_result"
    }
   ],
   "source": [
    "#initialization of probalities of ge\n",
    "probs_ge=[]\n",
    "for i in g:\n",
    "    for j in e:\n",
    "        p = probs_diction_g[i]*probs_diction_e[j]\n",
    "        probs_ge.append((p,i+j))\n",
    "probs_ge[:5]"
   ]
  },
  {
   "cell_type": "code",
   "execution_count": 63,
   "id": "76da0f10",
   "metadata": {},
   "outputs": [
    {
     "data": {
      "text/plain": [
       "[(0.027777777777777776, 'αα'),\n",
       " (0.027777777777777776, 'αβ'),\n",
       " (0.027777777777777776, 'αγ'),\n",
       " (0.027777777777777776, 'αδ'),\n",
       " (0.027777777777777776, 'αǫ')]"
      ]
     },
     "execution_count": 63,
     "metadata": {},
     "output_type": "execute_result"
    }
   ],
   "source": [
    "#initialization of probalities of gg\n",
    "probs_gg = []\n",
    "for i in g:\n",
    "    for j in g:\n",
    "        p = probs_diction_g[i]*probs_diction_g[j]\n",
    "        probs_gg.append((p,i+j))\n",
    "probs_gg[:5]"
   ]
  },
  {
   "cell_type": "code",
   "execution_count": 59,
   "id": "c278ee65",
   "metadata": {},
   "outputs": [],
   "source": [
    "# Construct four huffman encoding for eg, ge,ee,gg\n",
    "huffman_ee = huffman(probs_ee)\n",
    "huffman_eg = huffman(probs_eg)\n",
    "huffman_ge = huffman(probs_ge)\n",
    "huffman_gg = huffman(probs_gg)"
   ]
  },
  {
   "cell_type": "code",
   "execution_count": 60,
   "id": "9332ca46",
   "metadata": {},
   "outputs": [
    {
     "data": {
      "text/plain": [
       "2.575617283950617"
      ]
     },
     "execution_count": 60,
     "metadata": {},
     "output_type": "execute_result"
    }
   ],
   "source": [
    "# compute Avg length per source symbol \n",
    "avg_length_partb_n2 = 1/4*(huffman_ee.get_avgLength()+huffman_eg.get_avgLength()+huffman_ge.get_avgLength()+huffman_gg.get_avgLength())/2\n",
    "avg_length_partb_n2"
   ]
  },
  {
   "cell_type": "markdown",
   "id": "9d37c412",
   "metadata": {},
   "source": [
    "### Part b, n =3, we have 'eee', 'eeg', 'ege', 'egg', 'gee', 'geg', 'gge', 'ggg' eight cases, prob for each of them is 1/8\n"
   ]
  },
  {
   "cell_type": "code",
   "execution_count": 66,
   "id": "d1d40386",
   "metadata": {},
   "outputs": [],
   "source": [
    "\n",
    "probs_eee = []\n",
    "probs_eeg = []\n",
    "probs_ege = []\n",
    "probs_egg = []\n",
    "probs_gee = []\n",
    "probs_geg = []\n",
    "probs_gge = []\n",
    "probs_ggg = []\n",
    "# eee\n",
    "for i in e:\n",
    "    for j in e:\n",
    "        for k in e:\n",
    "            p = probs_diction_e[i]*probs_diction_e[j]*probs_diction_e[k]\n",
    "            probs_eee.append((p,i+j+k))\n",
    "# eeg\n",
    "for i in e:\n",
    "    for j in e:\n",
    "        for k in g:\n",
    "            p = probs_diction_e[i]*probs_diction_e[j]*probs_diction_g[k]\n",
    "            probs_eeg.append((p,i+j+k))\n",
    "# ege\n",
    "for i in e:\n",
    "    for j in g:\n",
    "        for k in e:\n",
    "            p = probs_diction_e[i]*probs_diction_g[j]*probs_diction_e[k]\n",
    "            probs_ege.append((p,i+j+k))\n",
    "# egg\n",
    "for i in e:\n",
    "    for j in g:\n",
    "        for k in g:\n",
    "            p = probs_diction_e[i]*probs_diction_g[j]*probs_diction_g[k]\n",
    "            probs_egg.append((p,i+j+k))\n",
    "# gee\n",
    "for i in g:\n",
    "    for j in e:\n",
    "        for k in e:\n",
    "            p = probs_diction_g[i]*probs_diction_e[j]*probs_diction_e[k]\n",
    "            probs_gee.append((p,i+j+k))\n",
    "# geg\n",
    "for i in g:\n",
    "    for j in e:\n",
    "        for k in g:\n",
    "            p = probs_diction_g[i]*probs_diction_e[j]*probs_diction_g[k]\n",
    "            probs_geg.append((p,i+j+k))\n",
    "# gge \n",
    "for i in g:\n",
    "    for j in g:\n",
    "        for k in e:\n",
    "            p = probs_diction_g[i]*probs_diction_g[j]*probs_diction_e[k]\n",
    "            probs_gge.append((p,i+j+k))\n",
    "# ggg \n",
    "for i in g:\n",
    "    for j in g:\n",
    "        for k in g:\n",
    "            p = probs_diction_g[i]*probs_diction_g[j]*probs_diction_g[k]\n",
    "            probs_ggg.append((p,i+j+k))"
   ]
  },
  {
   "cell_type": "code",
   "execution_count": 68,
   "id": "68eda204",
   "metadata": {},
   "outputs": [
    {
     "data": {
      "text/plain": [
       "2.5628715134887985"
      ]
     },
     "execution_count": 68,
     "metadata": {},
     "output_type": "execute_result"
    }
   ],
   "source": [
    "# Construct huffman for eight cases:\n",
    "huff_all = [huffman(probs_eee),huffman(probs_eeg),huffman(probs_ege),huffman(probs_egg),\n",
    "            huffman(probs_gee),huffman(probs_geg),huffman(probs_gge),huffman(probs_ggg)]\n",
    "avg_length_partb_n3 = sum([x.get_avgLength() for x in huff_all])*1/8*1/3\n",
    "avg_length_partb_n3"
   ]
  },
  {
   "cell_type": "code",
   "execution_count": 108,
   "id": "59c4303f",
   "metadata": {},
   "outputs": [
    {
     "data": {
      "text/plain": [
       "([(0.16666666666666666, 'α'),\n",
       "  (0.16666666666666666, 'β'),\n",
       "  (0.16666666666666666, 'γ'),\n",
       "  (0.16666666666666666, 'δ'),\n",
       "  (0.16666666666666666, 'ǫ'),\n",
       "  (0.16666666666666666, 'φ')],\n",
       " [(0.2222222222222222, 'A'),\n",
       "  (0.2222222222222222, 'E'),\n",
       "  (0.2222222222222222, 'I'),\n",
       "  (0.1111111111111111, 'B'),\n",
       "  (0.1111111111111111, 'C'),\n",
       "  (0.1111111111111111, 'D')])"
      ]
     },
     "execution_count": 108,
     "metadata": {},
     "output_type": "execute_result"
    }
   ],
   "source": [
    "# conditional probalities H(X|Y)\n",
    "entropy_probs_s2,entropy_probs_s1"
   ]
  },
  {
   "cell_type": "code",
   "execution_count": 107,
   "id": "ad954547",
   "metadata": {},
   "outputs": [
    {
     "data": {
      "text/plain": [
       "2.544110417748401"
      ]
     },
     "execution_count": 107,
     "metadata": {},
     "output_type": "execute_result"
    }
   ],
   "source": [
    "# compute the conditional entropy\n",
    "s1_entropy,s2_entropy = 0,0\n",
    "for a in entropy_probs_s2:\n",
    "    d_s2 = a[0]*math.log(1/a[0],2)\n",
    "    s2_entropy+=d_s2\n",
    "for b in entropy_probs_s1:\n",
    "    d_s1 = b[0]*math.log(1/b[0],2)\n",
    "    s1_entropy+=d_s1\n",
    "conditional_entropy = 1/2*s1_entropy+1/2*s2_entropy\n",
    "conditional_entropy"
   ]
  },
  {
   "cell_type": "markdown",
   "id": "f84260b3",
   "metadata": {},
   "source": [
    "### Conclusion:\n",
    " <font size=\"4\">When the block size increases, the average length per source symbol will approach to the conditional entropy H(X<sub>0</sub>|Y) which is 2.544110417748401 </font>"
   ]
  },
  {
   "cell_type": "code",
   "execution_count": null,
   "id": "83d6e9b1",
   "metadata": {},
   "outputs": [],
   "source": []
  }
 ],
 "metadata": {
  "kernelspec": {
   "display_name": "Python 3 (ipykernel)",
   "language": "python",
   "name": "python3"
  },
  "language_info": {
   "codemirror_mode": {
    "name": "ipython",
    "version": 3
   },
   "file_extension": ".py",
   "mimetype": "text/x-python",
   "name": "python",
   "nbconvert_exporter": "python",
   "pygments_lexer": "ipython3",
   "version": "3.9.13"
  }
 },
 "nbformat": 4,
 "nbformat_minor": 5
}
